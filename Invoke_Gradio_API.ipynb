{
  "nbformat": 4,
  "nbformat_minor": 0,
  "metadata": {
    "colab": {
      "provenance": [],
      "authorship_tag": "ABX9TyMXvZ3EvveA8dltHIPo0t1R",
      "include_colab_link": true
    },
    "kernelspec": {
      "name": "python3",
      "display_name": "Python 3"
    },
    "language_info": {
      "name": "python"
    }
  },
  "cells": [
    {
      "cell_type": "markdown",
      "metadata": {
        "id": "view-in-github",
        "colab_type": "text"
      },
      "source": [
        "<a href=\"https://colab.research.google.com/github/Abhishek3102/Deploying-LLM-Model-using-Gradio/blob/main/Invoke_Gradio_API.ipynb\" target=\"_parent\"><img src=\"https://colab.research.google.com/assets/colab-badge.svg\" alt=\"Open In Colab\"/></a>"
      ]
    },
    {
      "cell_type": "code",
      "execution_count": 1,
      "metadata": {
        "colab": {
          "base_uri": "https://localhost:8080/"
        },
        "id": "sR3aYaCJdFE4",
        "outputId": "3c058f8b-450d-4ad6-9c0e-64815fe0ad69"
      },
      "outputs": [
        {
          "output_type": "stream",
          "name": "stdout",
          "text": [
            "Collecting gradio-client==1.0.1\n",
            "  Downloading gradio_client-1.0.1-py3-none-any.whl.metadata (7.1 kB)\n",
            "Requirement already satisfied: fsspec in /usr/local/lib/python3.10/dist-packages (from gradio-client==1.0.1) (2024.6.1)\n",
            "Collecting httpx>=0.24.1 (from gradio-client==1.0.1)\n",
            "  Downloading httpx-0.27.0-py3-none-any.whl.metadata (7.2 kB)\n",
            "Requirement already satisfied: huggingface-hub>=0.19.3 in /usr/local/lib/python3.10/dist-packages (from gradio-client==1.0.1) (0.23.5)\n",
            "Requirement already satisfied: packaging in /usr/local/lib/python3.10/dist-packages (from gradio-client==1.0.1) (24.1)\n",
            "Requirement already satisfied: typing-extensions~=4.0 in /usr/local/lib/python3.10/dist-packages (from gradio-client==1.0.1) (4.12.2)\n",
            "Collecting websockets<12.0,>=10.0 (from gradio-client==1.0.1)\n",
            "  Downloading websockets-11.0.3-cp310-cp310-manylinux_2_5_x86_64.manylinux1_x86_64.manylinux_2_17_x86_64.manylinux2014_x86_64.whl.metadata (6.6 kB)\n",
            "Requirement already satisfied: anyio in /usr/local/lib/python3.10/dist-packages (from httpx>=0.24.1->gradio-client==1.0.1) (3.7.1)\n",
            "Requirement already satisfied: certifi in /usr/local/lib/python3.10/dist-packages (from httpx>=0.24.1->gradio-client==1.0.1) (2024.7.4)\n",
            "Collecting httpcore==1.* (from httpx>=0.24.1->gradio-client==1.0.1)\n",
            "  Downloading httpcore-1.0.5-py3-none-any.whl.metadata (20 kB)\n",
            "Requirement already satisfied: idna in /usr/local/lib/python3.10/dist-packages (from httpx>=0.24.1->gradio-client==1.0.1) (3.7)\n",
            "Requirement already satisfied: sniffio in /usr/local/lib/python3.10/dist-packages (from httpx>=0.24.1->gradio-client==1.0.1) (1.3.1)\n",
            "Collecting h11<0.15,>=0.13 (from httpcore==1.*->httpx>=0.24.1->gradio-client==1.0.1)\n",
            "  Downloading h11-0.14.0-py3-none-any.whl.metadata (8.2 kB)\n",
            "Requirement already satisfied: filelock in /usr/local/lib/python3.10/dist-packages (from huggingface-hub>=0.19.3->gradio-client==1.0.1) (3.15.4)\n",
            "Requirement already satisfied: pyyaml>=5.1 in /usr/local/lib/python3.10/dist-packages (from huggingface-hub>=0.19.3->gradio-client==1.0.1) (6.0.2)\n",
            "Requirement already satisfied: requests in /usr/local/lib/python3.10/dist-packages (from huggingface-hub>=0.19.3->gradio-client==1.0.1) (2.32.3)\n",
            "Requirement already satisfied: tqdm>=4.42.1 in /usr/local/lib/python3.10/dist-packages (from huggingface-hub>=0.19.3->gradio-client==1.0.1) (4.66.5)\n",
            "Requirement already satisfied: exceptiongroup in /usr/local/lib/python3.10/dist-packages (from anyio->httpx>=0.24.1->gradio-client==1.0.1) (1.2.2)\n",
            "Requirement already satisfied: charset-normalizer<4,>=2 in /usr/local/lib/python3.10/dist-packages (from requests->huggingface-hub>=0.19.3->gradio-client==1.0.1) (3.3.2)\n",
            "Requirement already satisfied: urllib3<3,>=1.21.1 in /usr/local/lib/python3.10/dist-packages (from requests->huggingface-hub>=0.19.3->gradio-client==1.0.1) (2.0.7)\n",
            "Downloading gradio_client-1.0.1-py3-none-any.whl (318 kB)\n",
            "\u001b[2K   \u001b[90m━━━━━━━━━━━━━━━━━━━━━━━━━━━━━━━━━━━━━━━━\u001b[0m \u001b[32m318.1/318.1 kB\u001b[0m \u001b[31m2.5 MB/s\u001b[0m eta \u001b[36m0:00:00\u001b[0m\n",
            "\u001b[?25hDownloading httpx-0.27.0-py3-none-any.whl (75 kB)\n",
            "\u001b[2K   \u001b[90m━━━━━━━━━━━━━━━━━━━━━━━━━━━━━━━━━━━━━━━━\u001b[0m \u001b[32m75.6/75.6 kB\u001b[0m \u001b[31m4.5 MB/s\u001b[0m eta \u001b[36m0:00:00\u001b[0m\n",
            "\u001b[?25hDownloading httpcore-1.0.5-py3-none-any.whl (77 kB)\n",
            "\u001b[2K   \u001b[90m━━━━━━━━━━━━━━━━━━━━━━━━━━━━━━━━━━━━━━━━\u001b[0m \u001b[32m77.9/77.9 kB\u001b[0m \u001b[31m3.8 MB/s\u001b[0m eta \u001b[36m0:00:00\u001b[0m\n",
            "\u001b[?25hDownloading websockets-11.0.3-cp310-cp310-manylinux_2_5_x86_64.manylinux1_x86_64.manylinux_2_17_x86_64.manylinux2014_x86_64.whl (129 kB)\n",
            "\u001b[2K   \u001b[90m━━━━━━━━━━━━━━━━━━━━━━━━━━━━━━━━━━━━━━━━\u001b[0m \u001b[32m129.9/129.9 kB\u001b[0m \u001b[31m6.6 MB/s\u001b[0m eta \u001b[36m0:00:00\u001b[0m\n",
            "\u001b[?25hDownloading h11-0.14.0-py3-none-any.whl (58 kB)\n",
            "\u001b[2K   \u001b[90m━━━━━━━━━━━━━━━━━━━━━━━━━━━━━━━━━━━━━━━━\u001b[0m \u001b[32m58.3/58.3 kB\u001b[0m \u001b[31m3.6 MB/s\u001b[0m eta \u001b[36m0:00:00\u001b[0m\n",
            "\u001b[?25hInstalling collected packages: websockets, h11, httpcore, httpx, gradio-client\n",
            "Successfully installed gradio-client-1.0.1 h11-0.14.0 httpcore-1.0.5 httpx-0.27.0 websockets-11.0.3\n"
          ]
        }
      ],
      "source": [
        "!pip install gradio-client==1.0.1"
      ]
    },
    {
      "cell_type": "code",
      "source": [
        "import json\n",
        "from gradio_client import Client"
      ],
      "metadata": {
        "id": "XqV7eI5UdW7m"
      },
      "execution_count": 2,
      "outputs": []
    },
    {
      "cell_type": "code",
      "source": [
        "url = \"https://2b4433da4eb393c940.gradio.live/\""
      ],
      "metadata": {
        "id": "ezLFSDHrdm1r"
      },
      "execution_count": 3,
      "outputs": []
    },
    {
      "cell_type": "code",
      "source": [
        "input_data = {\"query\": \"Who is better between Ronaldo and Messi?\"}\n",
        "\n",
        "input_data_json= json.dumps(input_data)"
      ],
      "metadata": {
        "id": "JFeREBH2d0Sx"
      },
      "execution_count": 4,
      "outputs": []
    },
    {
      "cell_type": "code",
      "source": [
        "client = Client(url)"
      ],
      "metadata": {
        "colab": {
          "base_uri": "https://localhost:8080/"
        },
        "id": "hpScMG4WeFWW",
        "outputId": "70f3be3d-226d-4ed1-c2a2-23be930c37c2"
      },
      "execution_count": 5,
      "outputs": [
        {
          "output_type": "stream",
          "name": "stderr",
          "text": [
            "/usr/local/lib/python3.10/dist-packages/huggingface_hub/utils/_token.py:89: UserWarning: \n",
            "The secret `HF_TOKEN` does not exist in your Colab secrets.\n",
            "To authenticate with the Hugging Face Hub, create a token in your settings tab (https://huggingface.co/settings/tokens), set it as secret in your Google Colab and restart your session.\n",
            "You will be able to reuse this secret in all of your notebooks.\n",
            "Please note that authentication is recommended but still optional to access public models or datasets.\n",
            "  warnings.warn(\n"
          ]
        },
        {
          "output_type": "stream",
          "name": "stdout",
          "text": [
            "Loaded as API: https://2b4433da4eb393c940.gradio.live/ ✔\n"
          ]
        }
      ]
    },
    {
      "cell_type": "code",
      "source": [
        "result = client.predict(input_data_json, api_name=\"/predict\")"
      ],
      "metadata": {
        "id": "rOxp7xgQelyh"
      },
      "execution_count": 6,
      "outputs": []
    },
    {
      "cell_type": "code",
      "source": [
        "print(result)"
      ],
      "metadata": {
        "colab": {
          "base_uri": "https://localhost:8080/"
        },
        "id": "J4PpyECqezw2",
        "outputId": "bec6ed3f-9abf-4ea8-b691-3b2a1a07ebf5"
      },
      "execution_count": 7,
      "outputs": [
        {
          "output_type": "stream",
          "name": "stdout",
          "text": [
            "{'output': \"Who is better between Ronaldo and Messi?\\n\\nThe debate between Cristiano Ronaldo and Lionel Messi is one of the most heated in football history. Both players are exceptional talents who have achieved unparalleled success on the pitch. While their styles of play are different, they share a love for the game and a hunger for victory.\\n\\n**Here's a comparison of their key stats and achievements:**\\n\\n| Stat | Ronaldo | Messi |\\n|---|---|---|\\n| Goals | 819 (as of October 2023) | 793 (as of October 2023) |\\n| Assists | 281 | 200 |\\n| Key passes | 1,011 | 833 |\\n| Minutes played | 1,003 (as of October 2023) | 1,001 (as of October 2023) |\\n| International caps | 197 | 177 |\\n\\nAs you can see, both players are incredibly prolific goalscorers, but Messi edges Ronaldo in terms of key passes and minutes played.\\n\\nUltimately, the choice between Ronaldo and Messi is a matter of personal preference. Some fans may prefer Ronaldo's directness and leadership, while others may prefer Messi's creativity and passing ability.\\n\\n**Here are some additional factors to consider:**\\n\\n* **Team success:** Ronaldo has won more major trophies with Real Madrid, while Messi has won more with Barcelona.\\n* **Individual awards:** Ronaldo has won more Ballon d'Or awards, while Messi has won more European Golden Shoe awards.\\n* **Style of play:** Ronaldo is a more complete forward who can play as a winger, while Messi is a more attacking midfielder who is known for his passing and playmaking.\\n\\n**In conclusion, both Ronaldo and Messi are exceptional players who have achieved great things in their careers. The debate between them is sure to continue as both players continue to push each other to new heights.**\"}\n"
          ]
        }
      ]
    },
    {
      "cell_type": "code",
      "source": [
        "type(result)"
      ],
      "metadata": {
        "colab": {
          "base_uri": "https://localhost:8080/"
        },
        "id": "zS-RJkpefOdF",
        "outputId": "36a0fcfa-37cc-438b-fa06-eb206791feb9"
      },
      "execution_count": 8,
      "outputs": [
        {
          "output_type": "execute_result",
          "data": {
            "text/plain": [
              "dict"
            ]
          },
          "metadata": {},
          "execution_count": 8
        }
      ]
    },
    {
      "cell_type": "code",
      "source": [
        "print(result[\"output\"])"
      ],
      "metadata": {
        "colab": {
          "base_uri": "https://localhost:8080/"
        },
        "id": "_Lp3_nK4fUTv",
        "outputId": "998d8d3a-5a7a-4c56-f896-eb79b8fc3c82"
      },
      "execution_count": 9,
      "outputs": [
        {
          "output_type": "stream",
          "name": "stdout",
          "text": [
            "Who is better between Ronaldo and Messi?\n",
            "\n",
            "The debate between Cristiano Ronaldo and Lionel Messi is one of the most heated in football history. Both players are exceptional talents who have achieved unparalleled success on the pitch. While their styles of play are different, they share a love for the game and a hunger for victory.\n",
            "\n",
            "**Here's a comparison of their key stats and achievements:**\n",
            "\n",
            "| Stat | Ronaldo | Messi |\n",
            "|---|---|---|\n",
            "| Goals | 819 (as of October 2023) | 793 (as of October 2023) |\n",
            "| Assists | 281 | 200 |\n",
            "| Key passes | 1,011 | 833 |\n",
            "| Minutes played | 1,003 (as of October 2023) | 1,001 (as of October 2023) |\n",
            "| International caps | 197 | 177 |\n",
            "\n",
            "As you can see, both players are incredibly prolific goalscorers, but Messi edges Ronaldo in terms of key passes and minutes played.\n",
            "\n",
            "Ultimately, the choice between Ronaldo and Messi is a matter of personal preference. Some fans may prefer Ronaldo's directness and leadership, while others may prefer Messi's creativity and passing ability.\n",
            "\n",
            "**Here are some additional factors to consider:**\n",
            "\n",
            "* **Team success:** Ronaldo has won more major trophies with Real Madrid, while Messi has won more with Barcelona.\n",
            "* **Individual awards:** Ronaldo has won more Ballon d'Or awards, while Messi has won more European Golden Shoe awards.\n",
            "* **Style of play:** Ronaldo is a more complete forward who can play as a winger, while Messi is a more attacking midfielder who is known for his passing and playmaking.\n",
            "\n",
            "**In conclusion, both Ronaldo and Messi are exceptional players who have achieved great things in their careers. The debate between them is sure to continue as both players continue to push each other to new heights.**\n"
          ]
        }
      ]
    },
    {
      "cell_type": "code",
      "source": [],
      "metadata": {
        "id": "pd2D9c4Ofbm6"
      },
      "execution_count": null,
      "outputs": []
    }
  ]
}